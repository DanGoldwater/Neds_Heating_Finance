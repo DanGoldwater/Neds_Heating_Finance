{
 "cells": [
  {
   "cell_type": "markdown",
   "metadata": {},
   "source": [
    "# Neds Heating Options Cost Calculator"
   ]
  },
  {
   "cell_type": "code",
   "execution_count": 3,
   "metadata": {},
   "outputs": [],
   "source": [
    "import numpy_financial as npf\n",
    "from main import *\n",
    "import numpy as np\n",
    "np.set_printoptions(precision=2)"
   ]
  },
  {
   "cell_type": "markdown",
   "metadata": {},
   "source": [
    "## Pre-amble\n",
    "\n",
    "These calculations will be fairly sensitive to the parameters we set. I'm taking a couple of estimates here in making these. For example, T4 estimate our current heating energy usage as 9000 kWh / year. I'm estimating that we would want to increase this to 12000 kWh / year, as we move to heating the communal spaces. \n",
    "\n",
    "The key parameters we will depend on will be:\n",
    "- The interest rate for our loan\n",
    "- The price of electricity\n",
    "- The amount of energy we use"
   ]
  },
  {
   "cell_type": "markdown",
   "metadata": {},
   "source": [
    "## Set Parameters\n"
   ]
  },
  {
   "cell_type": "code",
   "execution_count": 4,
   "metadata": {},
   "outputs": [],
   "source": [
    "scenario_1 = {\n",
    "    'loan_years': 25,\n",
    "    'rate': 5,\n",
    "    'loan_amount': 40000,\n",
    "    'heating_need': 22000 / 12,\n",
    "    'electricity_price': .2,\n",
    "    \n",
    "}\n",
    "\n"
   ]
  },
  {
   "cell_type": "code",
   "execution_count": 5,
   "metadata": {},
   "outputs": [
    {
     "name": "stdout",
     "output_type": "stream",
     "text": [
      "Monthly loan payments would be £233.83601660319204 \n",
      "Monthly heating bill would be £107.84313725490198 \n",
      "Monthly total bill would be 341.679153858094\n",
      "\n",
      " Or, with just electric heating:\n",
      "Monthly heating bill would be £366.6666666666667 \n"
     ]
    }
   ],
   "source": [
    "give_summary(scenario_1)"
   ]
  },
  {
   "cell_type": "code",
   "execution_count": 9,
   "metadata": {},
   "outputs": [],
   "source": [
    "from ipywidgets import interact\n",
    "import seaborn \n",
    "import pandas as pd\n",
    "def f(x):\n",
    "    xx = np.arange(x, 100)\n",
    "    yy = [a ** 2 for a in xx]\n",
    "    return seaborn.lineplot(x=xx, y=yy)\n",
    "\n",
    "def make_cost_plot(loan_years,\n",
    "                   rate,\n",
    "                   loan_amount,\n",
    "                   heating_need, ):\n",
    "    scen_here = {'loan_years': loan_years,\n",
    "    'rate': rate,\n",
    "    'loan_amount': loan_amount,\n",
    "    'heating_need': heating_need,\n",
    "    'electricity_price': .18,}\n",
    "    \n",
    "    e_range = np.arange(.15, .7, .01)\n",
    "    air_source_payments = []\n",
    "    ordinary_payments = []\n",
    "    for e in e_range:\n",
    "        scen_here['electricity_price'] = e\n",
    "        air_source_payments += [monthly_heat_source_bill(**scen_here)]\n",
    "        ordinary_payments += [monthly_ordinary_heating_bill(**scen_here)]\n",
    "    df = pd.DataFrame({\n",
    "        'electricity': e_range,\n",
    "        'Ordinary Price': ordinary_payments,\n",
    "        'Air Source': air_source_payments\n",
    "    }) \n",
    "    return df\n",
    "       \n",
    "    \n",
    "        \n"
   ]
  },
  {
   "cell_type": "code",
   "execution_count": 24,
   "metadata": {},
   "outputs": [
    {
     "data": {
      "text/html": [
       "<div>\n",
       "<style scoped>\n",
       "    .dataframe tbody tr th:only-of-type {\n",
       "        vertical-align: middle;\n",
       "    }\n",
       "\n",
       "    .dataframe tbody tr th {\n",
       "        vertical-align: top;\n",
       "    }\n",
       "\n",
       "    .dataframe thead th {\n",
       "        text-align: right;\n",
       "    }\n",
       "</style>\n",
       "<table border=\"1\" class=\"dataframe\">\n",
       "  <thead>\n",
       "    <tr style=\"text-align: right;\">\n",
       "      <th></th>\n",
       "      <th>electricity</th>\n",
       "      <th>Ordinary Price</th>\n",
       "      <th>Air Source</th>\n",
       "    </tr>\n",
       "  </thead>\n",
       "  <tbody>\n",
       "    <tr>\n",
       "      <th>0</th>\n",
       "      <td>0.15</td>\n",
       "      <td>275.000000</td>\n",
       "      <td>80.882353</td>\n",
       "    </tr>\n",
       "    <tr>\n",
       "      <th>1</th>\n",
       "      <td>0.16</td>\n",
       "      <td>293.333333</td>\n",
       "      <td>86.274510</td>\n",
       "    </tr>\n",
       "    <tr>\n",
       "      <th>2</th>\n",
       "      <td>0.17</td>\n",
       "      <td>311.666667</td>\n",
       "      <td>91.666667</td>\n",
       "    </tr>\n",
       "    <tr>\n",
       "      <th>3</th>\n",
       "      <td>0.18</td>\n",
       "      <td>330.000000</td>\n",
       "      <td>97.058824</td>\n",
       "    </tr>\n",
       "    <tr>\n",
       "      <th>4</th>\n",
       "      <td>0.19</td>\n",
       "      <td>348.333333</td>\n",
       "      <td>102.450980</td>\n",
       "    </tr>\n",
       "  </tbody>\n",
       "</table>\n",
       "</div>"
      ],
      "text/plain": [
       "   electricity  Ordinary Price  Air Source\n",
       "0         0.15      275.000000   80.882353\n",
       "1         0.16      293.333333   86.274510\n",
       "2         0.17      311.666667   91.666667\n",
       "3         0.18      330.000000   97.058824\n",
       "4         0.19      348.333333  102.450980"
      ]
     },
     "execution_count": 24,
     "metadata": {},
     "output_type": "execute_result"
    }
   ],
   "source": [
    "df = make_cost_plot(\n",
    "    loan_years=25,\n",
    "    rate=5, \n",
    "    loan_amount=40000,\n",
    "    heating_need=22000 / 12\n",
    ")\n",
    "df.head()\n",
    "    # seaborn.lineplot(data=df, x='electricity', y='signal)"
   ]
  },
  {
   "cell_type": "code",
   "execution_count": 29,
   "metadata": {},
   "outputs": [
    {
     "data": {
      "text/html": [
       "<div>\n",
       "<style scoped>\n",
       "    .dataframe tbody tr th:only-of-type {\n",
       "        vertical-align: middle;\n",
       "    }\n",
       "\n",
       "    .dataframe tbody tr th {\n",
       "        vertical-align: top;\n",
       "    }\n",
       "\n",
       "    .dataframe thead th {\n",
       "        text-align: right;\n",
       "    }\n",
       "</style>\n",
       "<table border=\"1\" class=\"dataframe\">\n",
       "  <thead>\n",
       "    <tr style=\"text-align: right;\">\n",
       "      <th></th>\n",
       "      <th>electricity</th>\n",
       "      <th>Energy Type</th>\n",
       "      <th>Price</th>\n",
       "    </tr>\n",
       "  </thead>\n",
       "  <tbody>\n",
       "    <tr>\n",
       "      <th>0</th>\n",
       "      <td>0.15</td>\n",
       "      <td>Ordinary Price</td>\n",
       "      <td>275.000000</td>\n",
       "    </tr>\n",
       "    <tr>\n",
       "      <th>1</th>\n",
       "      <td>0.16</td>\n",
       "      <td>Ordinary Price</td>\n",
       "      <td>293.333333</td>\n",
       "    </tr>\n",
       "    <tr>\n",
       "      <th>2</th>\n",
       "      <td>0.17</td>\n",
       "      <td>Ordinary Price</td>\n",
       "      <td>311.666667</td>\n",
       "    </tr>\n",
       "    <tr>\n",
       "      <th>3</th>\n",
       "      <td>0.18</td>\n",
       "      <td>Ordinary Price</td>\n",
       "      <td>330.000000</td>\n",
       "    </tr>\n",
       "    <tr>\n",
       "      <th>4</th>\n",
       "      <td>0.19</td>\n",
       "      <td>Ordinary Price</td>\n",
       "      <td>348.333333</td>\n",
       "    </tr>\n",
       "  </tbody>\n",
       "</table>\n",
       "</div>"
      ],
      "text/plain": [
       "   electricity     Energy Type       Price\n",
       "0         0.15  Ordinary Price  275.000000\n",
       "1         0.16  Ordinary Price  293.333333\n",
       "2         0.17  Ordinary Price  311.666667\n",
       "3         0.18  Ordinary Price  330.000000\n",
       "4         0.19  Ordinary Price  348.333333"
      ]
     },
     "execution_count": 29,
     "metadata": {},
     "output_type": "execute_result"
    }
   ],
   "source": [
    "dfm = df.melt('electricity', var_name='Energy Type', value_name='Price') \n",
    "dfm.head()"
   ]
  },
  {
   "cell_type": "code",
   "execution_count": 30,
   "metadata": {},
   "outputs": [
    {
     "data": {
      "text/plain": [
       "<AxesSubplot:xlabel='electricity', ylabel='Price'>"
      ]
     },
     "execution_count": 30,
     "metadata": {},
     "output_type": "execute_result"
    },
    {
     "data": {
      "image/png": "[encoded data removed]",
      "text/plain": [
       "<Figure size 432x288 with 1 Axes>"
      ]
     },
     "metadata": {
      "needs_background": "light"
     },
     "output_type": "display_data"
    }
   ],
   "source": [
    "seaborn.lineplot(data=dfm, x='electricity', y='Price', hue='Energy Type')"
   ]
  }
 ],
 "metadata": {
  "interpreter": {
   "hash": "85ede6a1c4dc312bb6fa7c2dc0890bf289ad30ce969abb2cd9fe4e165aba514f"
  },
  "kernelspec": {
   "display_name": "Python 3.10.1 64-bit",
   "language": "python",
   "name": "python3"
  },
  "language_info": {
   "codemirror_mode": {
    "name": "ipython",
    "version": 3
   },
   "file_extension": ".py",
   "mimetype": "text/x-python",
   "name": "python",
   "nbconvert_exporter": "python",
   "pygments_lexer": "ipython3",
   "version": "3.10.1"
  },
  "orig_nbformat": 4
 },
 "nbformat": 4,
 "nbformat_minor": 2
}
